{
 "cells": [
  {
   "cell_type": "code",
   "execution_count": null,
   "metadata": {},
   "outputs": [],
   "source": [
    "import requests\n",
    "\n",
    "api_key = \"4c4567a6b7573ad25f40c085e0ebf302\"\n",
    "city = \"Surabaya\"\n",
    "url = f\"http://api.openweathermap.org/data/2.5/weather?q={city}&appid={api_key}\"\n",
    "\n",
    "response = requests.get(url)\n",
    "data = response.json()"
   ]
  },
  {
   "cell_type": "code",
   "execution_count": 23,
   "metadata": {},
   "outputs": [
    {
     "data": {
      "text/plain": [
       "{'coord': {'lon': 112.7508, 'lat': -7.2492},\n",
       " 'weather': [{'id': 801,\n",
       "   'main': 'Clouds',\n",
       "   'description': 'few clouds',\n",
       "   'icon': '02n'}],\n",
       " 'base': 'stations',\n",
       " 'main': {'temp': 302.05,\n",
       "  'feels_like': 306.8,\n",
       "  'temp_min': 302.05,\n",
       "  'temp_max': 304.12,\n",
       "  'pressure': 1008,\n",
       "  'humidity': 76,\n",
       "  'sea_level': 1008,\n",
       "  'grnd_level': 1007},\n",
       " 'visibility': 8000,\n",
       " 'wind': {'speed': 2.57, 'deg': 360},\n",
       " 'clouds': {'all': 20},\n",
       " 'dt': 1733226988,\n",
       " 'sys': {'type': 2,\n",
       "  'id': 2081990,\n",
       "  'country': 'ID',\n",
       "  'sunrise': 1733177012,\n",
       "  'sunset': 1733222068},\n",
       " 'timezone': 25200,\n",
       " 'id': 1625822,\n",
       " 'name': 'Surabaya',\n",
       " 'cod': 200}"
      ]
     },
     "execution_count": 23,
     "metadata": {},
     "output_type": "execute_result"
    }
   ],
   "source": [
    "data"
   ]
  },
  {
   "cell_type": "code",
   "execution_count": 27,
   "metadata": {},
   "outputs": [
    {
     "data": {
      "text/plain": [
       "302.05"
      ]
     },
     "execution_count": 27,
     "metadata": {},
     "output_type": "execute_result"
    }
   ],
   "source": [
    "data['main']['temp']"
   ]
  },
  {
   "cell_type": "code",
   "execution_count": 28,
   "metadata": {},
   "outputs": [],
   "source": [
    "filtered_data = {\n",
    "    'temperature': data['main']['temp'], \n",
    "    'pressure': data['main']['pressure'],\n",
    "    'humidity': data['main']['humidity'],\n",
    "    'wind_speed': data['wind']['speed'], \n",
    "    'weather': data['weather'][0]['main'] \n",
    "}"
   ]
  },
  {
   "cell_type": "code",
   "execution_count": 29,
   "metadata": {},
   "outputs": [],
   "source": [
    "import csv\n",
    "\n",
    "with open('weather_data.csv', 'w', newline='') as csvfile:\n",
    "    fieldnames = filtered_data.keys()\n",
    "    writer = csv.DictWriter(csvfile, fieldnames=fieldnames)\n",
    "\n",
    "    writer.writeheader()\n",
    "    writer.writerow(filtered_data)"
   ]
  }
 ],
 "metadata": {
  "kernelspec": {
   "display_name": "venv",
   "language": "python",
   "name": "python3"
  },
  "language_info": {
   "codemirror_mode": {
    "name": "ipython",
    "version": 3
   },
   "file_extension": ".py",
   "mimetype": "text/x-python",
   "name": "python",
   "nbconvert_exporter": "python",
   "pygments_lexer": "ipython3",
   "version": "3.11.2"
  }
 },
 "nbformat": 4,
 "nbformat_minor": 2
}
